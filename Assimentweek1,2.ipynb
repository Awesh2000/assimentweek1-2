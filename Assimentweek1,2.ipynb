{
 "cells": [
  {
   "cell_type": "code",
   "execution_count": 1,
   "metadata": {},
   "outputs": [
    {
     "name": "stdout",
     "output_type": "stream",
     "text": [
      "Every char frequency in 'Awesh Gautam' is :\n",
      " {'A': 1, 'w': 1, 'e': 1, 's': 1, 'h': 1, ' ': 1, 'G': 1, 'a': 2, 'u': 1, 't': 1, 'm': 1}\n"
     ]
    }
   ],
   "source": [
    "#Python Data Type: String - Exercises\n",
    "\n",
    "# 1 - Python program to count the number of characters (character frequency) in a string.\n",
    "\n",
    "input_string = \"Awesh Gautam\"\n",
    "frequencies = {}\n",
    "\n",
    "for char in input_string:\n",
    "  if char in frequencies:\n",
    "      frequencies[char] += 1\n",
    "  else:\n",
    "       frequencies[char] = 1\n",
    "\n",
    "print(\"Every char frequency in '{}' is :\\n {}\".format(input_string,str(frequencies)))"
   ]
  },
  {
   "cell_type": "code",
   "execution_count": 2,
   "metadata": {},
   "outputs": [
    {
     "name": "stdout",
     "output_type": "stream",
     "text": [
      "7\n"
     ]
    }
   ],
   "source": [
    "# 3- Python function that takes a list of words and returns the length of the longest one\n",
    "\n",
    "my_list = []\n",
    "my_list = list([1,2,3,4])\n",
    "my_list = [1,2,3]\n",
    "my_list = [1,'Awesh',2,3]\n",
    "my_list = [\"Gautam\", [2,3,6],['Awesh'],[5,9],[23,5],3,4]\n",
    "print(len(my_list))"
   ]
  },
  {
   "cell_type": "code",
   "execution_count": 3,
   "metadata": {},
   "outputs": [
    {
     "name": "stdout",
     "output_type": "stream",
     "text": [
      "{'The': 1, 'name': 1, 'of': 1, 'student': 1, 'is': 2, 'Awesh': 1, 'Gautam': 1, ',': 1, 'He': 1, 'studying': 1, 'in': 1, 'CDGI,': 1, 'Indore': 1}\n"
     ]
    }
   ],
   "source": [
    "# 4 - Python program to count the occurrences of each word in a given sentence.\n",
    "\n",
    "def word_count(str):\n",
    "    counts = dict()\n",
    "    words = str.split()\n",
    "    for word in words :\n",
    "        if word in counts:\n",
    "           counts[word] += 1\n",
    "        else:\n",
    "            counts[word] = 1\n",
    "    return counts\n",
    "print( word_count('The name of student is Awesh Gautam , He is studying in CDGI, Indore '))\n"
   ]
  },
  {
   "cell_type": "code",
   "execution_count": 4,
   "metadata": {},
   "outputs": [
    {
     "name": "stdout",
     "output_type": "stream",
     "text": [
      "Python\n",
      "PYTHON\n"
     ]
    }
   ],
   "source": [
    "# 5 - Python function to convert a given string to all uppercase,\n",
    "#      if it contains at least 2 uppercase characters in the first 4 characters.\n",
    "\n",
    "def uppercase(str1):\n",
    "    num_upper = 0\n",
    "    for letter in str1[:4]: \n",
    "        if letter.upper() == letter:\n",
    "            num_upper += 1\n",
    "    if num_upper >= 2:\n",
    "        return str1.upper()\n",
    "    return str1\n",
    "\n",
    "print(uppercase('Python'))\n",
    "print(uppercase('PytHon'))"
   ]
  },
  {
   "cell_type": "code",
   "execution_count": 5,
   "metadata": {},
   "outputs": [
    {
     "name": "stdout",
     "output_type": "stream",
     "text": [
      "5\n",
      "['A', 'e', 'a', 'u', 'a']\n"
     ]
    }
   ],
   "source": [
    "# 6 - Python program to count and display the vowels of a given text.\n",
    "def vowel(text):\n",
    "    vowel = 'aeiouAEIOU'\n",
    "    print(len([letter for letter in text if letter in vowel]))\n",
    "    print([letter for letter in text if letter in vowel])\n",
    "vowel('Awesh Gautam') "
   ]
  },
  {
   "cell_type": "code",
   "execution_count": 6,
   "metadata": {},
   "outputs": [
    {
     "name": "stdout",
     "output_type": "stream",
     "text": [
      "The list is empty\n",
      "The list is not empty\n"
     ]
    }
   ],
   "source": [
    "\n",
    "## Python Data Type : list \n",
    "\n",
    "# 1 - Python program to check a list is empty or not.\n",
    "\n",
    "my_list = list()\n",
    "if len(my_list) == 0:\n",
    "   print('The list is empty')\n",
    "else:\n",
    "   print('The list is not empty')  \n",
    "\n",
    "my_list = list('Awesh Gautam')\n",
    "if len(my_list) == 0:\n",
    "   print('The list is empty')\n",
    "else:\n",
    "   print('The list is not empty')  "
   ]
  },
  {
   "cell_type": "code",
   "execution_count": 7,
   "metadata": {},
   "outputs": [
    {
     "name": "stdout",
     "output_type": "stream",
     "text": [
      "[2, 3, 4, 5, 6, 8, 9, 7]\n"
     ]
    }
   ],
   "source": [
    "# 2 - Python program to remove duplicates from a list.\n",
    "\n",
    "def remove_list(duplicate):\n",
    "    final_list = []\n",
    "    for num in duplicate:\n",
    "         if num not in final_list:\n",
    "            final_list.append(num)\n",
    "    return final_list\n",
    "duplicate = [2,3,4,5,4,2,3,6,8,9,5,3,2,5,7]\n",
    "print(remove_list(duplicate))"
   ]
  },
  {
   "cell_type": "code",
   "execution_count": 8,
   "metadata": {},
   "outputs": [
    {
     "name": "stdout",
     "output_type": "stream",
     "text": [
      "True\n",
      "None\n"
     ]
    }
   ],
   "source": [
    "# 3 - Python function that takes two lists and returns True if they have at least one common member\n",
    "\n",
    "def common_data(list1, list2):\n",
    "     result = False\n",
    "     for x in list1:\n",
    "       for y in list2:\n",
    "          if x == y:\n",
    "             result = True\n",
    "             return result\n",
    "print(common_data([1,2,3,4,5], [6,7,8,9,0,5]))\n",
    "print(common_data([1,2,3,4,5], [6,7,8,9,0,]))"
   ]
  },
  {
   "cell_type": "code",
   "execution_count": 9,
   "metadata": {},
   "outputs": [
    {
     "name": "stdout",
     "output_type": "stream",
     "text": [
      "[8, 5, 6, 7]\n"
     ]
    }
   ],
   "source": [
    "# 4 - Python program to get the difference between the two lists\n",
    "\n",
    "list1 = [1,2,3,4,5,6,7,8]\n",
    "list2 = [1,2,3,4] \n",
    "print(list(set(list1) - set(list2)))\n"
   ]
  },
  {
   "cell_type": "code",
   "execution_count": 10,
   "metadata": {},
   "outputs": [
    {
     "name": "stdout",
     "output_type": "stream",
     "text": [
      "Second Smallest element is: 4\n"
     ]
    }
   ],
   "source": [
    "\n",
    "# 5 - Python program to find the second smallest number in a list.\n",
    "\n",
    "def find_len(list1): \n",
    "\tlength = len(list1) \n",
    "\tlist1.sort()  \n",
    "\tprint(\"Second Smallest element is:\", list1[1]) \n",
    "\n",
    " \n",
    "list1=[12, 46, 2, 41, 31, 10, 8, 6, 4] \n",
    "smallest = find_len(list1)"
   ]
  },
  {
   "cell_type": "code",
   "execution_count": 11,
   "metadata": {},
   "outputs": [
    {
     "name": "stdout",
     "output_type": "stream",
     "text": [
      "Second Largest element is: 41\n"
     ]
    }
   ],
   "source": [
    "# 6 - Python program to find the second largest number in a list.\n",
    "\n",
    "def find_len(list1): \n",
    "\tlength = len(list1) \n",
    "\tlist1.sort()  \n",
    "\tprint(\"Second Largest element is:\", list1[-2]) \n",
    "\n",
    " \n",
    "list1=[12, 46, 2, 41, 31, 10, 8, 6, 4] \n",
    "Largest = find_len(list1)"
   ]
  },
  {
   "cell_type": "code",
   "execution_count": 12,
   "metadata": {},
   "outputs": [
    {
     "name": "stdout",
     "output_type": "stream",
     "text": [
      "Real List :  [10, 20, 10, 120, 30, 20, 5, 0, 10, 20, 50, 30, 5, 0, 10, 20, 50]\n",
      "Frequency of elements in list :  Counter({10: 4, 20: 4, 30: 2, 5: 2, 0: 2, 50: 2, 120: 1})\n"
     ]
    }
   ],
   "source": [
    "# 7 - Python program to get the frequency of the elements in a list.\n",
    "\n",
    "import collections\n",
    "my_list = [10,20,10,120,30,20,5,0,10,20,50,30,5,0,10,20,50]\n",
    "print('Real List : ',my_list)\n",
    "Fcq = collections.Counter(my_list)\n",
    "print('Frequency of elements in list : ',Fcq)"
   ]
  },
  {
   "cell_type": "code",
   "execution_count": 13,
   "metadata": {},
   "outputs": [
    {
     "name": "stdout",
     "output_type": "stream",
     "text": [
      "Given list :  [31, 3, 2000, 500, 12]\n",
      "Single Value:  313200050012\n"
     ]
    }
   ],
   "source": [
    "# 8 - Python program to convert a list of multiple integers into a single integer.\n",
    "\n",
    "a = [31, 3, 2000, 500, 12]\n",
    "print('Given list : ', a)\n",
    "b = int(''.join(map(str, a)))\n",
    "print('Single Value: ',b)"
   ]
  },
  {
   "cell_type": "code",
   "execution_count": 14,
   "metadata": {},
   "outputs": [
    {
     "name": "stdout",
     "output_type": "stream",
     "text": [
      "Colour1-Colour2:  ['red', 'green']\n",
      "Colour2-Colour1:  ['yellow', 'orange']\n"
     ]
    }
   ],
   "source": [
    "# 9 - Python program to compute the similarity between two lists.\n",
    "\n",
    "from collections import Counter\n",
    "colour1 = ['red','green','white','pink','black']\n",
    "colour2 = ['black','white','yellow','orange','pink']\n",
    "counter1 = Counter(colour1)\n",
    "counter2 = Counter(colour2)\n",
    "print('Colour1-Colour2: ',list(counter1 - counter2))\n",
    "print('Colour2-Colour1: ',list(counter2 - counter1))\n"
   ]
  },
  {
   "cell_type": "code",
   "execution_count": 15,
   "metadata": {},
   "outputs": [
    {
     "name": "stdout",
     "output_type": "stream",
     "text": [
      "The original dictionary : {}\n",
      "The original dictionary : {'Awesh'}\n",
      "Is dictionary empty : True\n",
      "Is dictionary empty : False\n"
     ]
    }
   ],
   "source": [
    "# 10 - Python program to check if all dictionaries in a list are empty or not.¶\n",
    "\n",
    "dict = {}\n",
    "dict1 = {'Awesh'}\n",
    "print('The original dictionary : ' + str(dict))\n",
    "print('The original dictionary : ' + str(dict1))\n",
    "test = not bool(dict)\n",
    "test1 = not bool(dict1)\n",
    "print('Is dictionary empty : ' + str(test))\n",
    "print('Is dictionary empty : ' + str(test1))\n"
   ]
  },
  {
   "cell_type": "code",
   "execution_count": 18,
   "metadata": {},
   "outputs": [
    {
     "name": "stdout",
     "output_type": "stream",
     "text": [
      "Enter a number:5\n",
      "{1: 1, 2: 4, 3: 9, 4: 16, 5: 25}\n"
     ]
    }
   ],
   "source": [
    "# 1 - Python script to generate and print a dictionary that contains a number (between 1 and n) in the form (x, x*x).\n",
    "\n",
    "n=int(input(\"Enter a number:\"))\n",
    "d={x:x*x for x in range(1,n+1)}\n",
    "print(d)\n",
    "\n"
   ]
  },
  {
   "cell_type": "code",
   "execution_count": 19,
   "metadata": {},
   "outputs": [
    {
     "name": "stdout",
     "output_type": "stream",
     "text": [
      "Counter({'c': 700, 'a': 400, 'b': 400})\n"
     ]
    }
   ],
   "source": [
    "# 2 -  Python program to combine two dictionary adding values for common keys.\n",
    " \n",
    "from collections import Counter\n",
    "d1 = {'a' : 100, 'b' : 200, 'c' : 300}\n",
    "d2 = {'a' : 300, 'b' : 200, 'c' : 400}\n",
    "d = Counter(d1) + Counter(d2)\n",
    "print(d)"
   ]
  },
  {
   "cell_type": "code",
   "execution_count": 20,
   "metadata": {},
   "outputs": [
    {
     "name": "stdout",
     "output_type": "stream",
     "text": [
      "The real list : [{'roll no.': 'EC-10'}, {'roll no.': 'CS-12'}, {'roll no.': 'EC-11'}, {'roll no.': 'EC-26'}]\n",
      "Unique values are : ['EC-10', 'EC-26', 'CS-12', 'EC-11']\n"
     ]
    }
   ],
   "source": [
    "# 3 - Python program to print all unique values in a dictionary.\n",
    "\n",
    "test_list = [{\"roll no.\":\"EC-10\"}, {\"roll no.\":\"CS-12\"}, {\"roll no.\":\"EC-11\"}, {\"roll no.\":\"EC-26\"},]\n",
    "print('The real list : ' + str(test_list))\n",
    "ram = list(set(val for dic in test_list for val in dic.values()))\n",
    "print('Unique values are : ' + str(ram))\n"
   ]
  },
  {
   "cell_type": "code",
   "execution_count": 21,
   "metadata": {},
   "outputs": [
    {
     "name": "stdout",
     "output_type": "stream",
     "text": [
      "da\n",
      "db\n",
      "dc\n",
      "ea\n",
      "eb\n",
      "ec\n",
      "fa\n",
      "fb\n",
      "fc\n"
     ]
    }
   ],
   "source": [
    "\n",
    "# 4 -  Python program to create and display all combinations of letters, selecting each letter from a different key in a dictionary.\n",
    "\n",
    "import itertools\n",
    "l = {'cs':['a','b','c'], 'EC':['d','e','f']}\n",
    "for combo in itertools.product(*[l[k] for k in sorted (l.keys())]):\n",
    "    print(''.join(combo))\n"
   ]
  },
  {
   "cell_type": "code",
   "execution_count": 22,
   "metadata": {},
   "outputs": [
    {
     "name": "stdout",
     "output_type": "stream",
     "text": [
      "{'A': 1, 'w': 1, 'e': 1, 's': 1, 'h': 1, ' ': 1, 'G': 1, 'a': 2, 'u': 1, 't': 1, 'm': 1}\n"
     ]
    }
   ],
   "source": [
    "# 5 - Python program to create a dictionary from a string.\n",
    " \n",
    "from collections import defaultdict, Counter\n",
    "str = 'Awesh Gautam'\n",
    "test_dict = {}\n",
    "for letter in str:\n",
    "    test_dict[letter] = test_dict.get(letter, 0) + 1\n",
    "print(test_dict)\n"
   ]
  },
  {
   "cell_type": "code",
   "execution_count": 23,
   "metadata": {},
   "outputs": [
    {
     "name": "stdout",
     "output_type": "stream",
     "text": [
      "198\n"
     ]
    }
   ],
   "source": [
    "# 6 - Python program to count the values associated with key in a dictionary.\n",
    "\n",
    "data = [{'rool no.': 10, 'marks': 90},\n",
    "   {'rool no.': 11, 'marks': 50},\n",
    "   {'rool no.': 12, 'marks': 58}]\n",
    "print(sum(d['marks'] for d in data))"
   ]
  },
  {
   "cell_type": "code",
   "execution_count": 24,
   "metadata": {},
   "outputs": [
    {
     "name": "stdout",
     "output_type": "stream",
     "text": [
      "{1: {2: {45: {3: {}}}}}\n"
     ]
    }
   ],
   "source": [
    "# 7 - Python program to convert a list into a nested dictionary of keys.\n",
    " \n",
    "list1 = [1,2,45,3]\n",
    "list2 = current = {}\n",
    "for name in list1:\n",
    "    current[name] = {}\n",
    "    current = current[name] \n",
    "print(list2)\n"
   ]
  },
  {
   "cell_type": "code",
   "execution_count": 25,
   "metadata": {},
   "outputs": [
    {
     "name": "stdout",
     "output_type": "stream",
     "text": [
      "\n",
      "Before Storing :\n",
      "('L1', [54, 1, 45, 12, 36, 9, 10])\n",
      "('L2', [10, 47, 32, 0, 3, 6])\n",
      "('L3', [9, 5, 4, 32, 5, 1, 0])\n",
      "\n",
      "After storing : \n",
      "{'L1': [1, 9, 10, 12, 36, 45, 54]}\n",
      "{'L2': [0, 3, 6, 10, 32, 47]}\n",
      "{'L3': [0, 1, 4, 5, 5, 9, 32]}\n"
     ]
    }
   ],
   "source": [
    "# 8 - Python program to sort a list alphabetically in a dictionary.\n",
    "\n",
    "dict ={\n",
    "         'L1':[54, 1, 45, 12, 36, 9, 10], \n",
    "         'L2':[10, 47, 32, 0, 3, 6],\n",
    "         'L3':[9, 5, 4, 32 ,5 ,1,0]\n",
    "}\n",
    "print('\\nBefore Storing :')\n",
    "for x in dict.items():\n",
    "    print(x)\n",
    "\n",
    "print('\\nAfter storing : ')\n",
    "\n",
    "for a, b in dict.items():\n",
    "    sorted_dict ={a:sorted(b)}\n",
    "    print(sorted_dict)\n"
   ]
  },
  {
   "cell_type": "code",
   "execution_count": 26,
   "metadata": {},
   "outputs": [
    {
     "name": "stdout",
     "output_type": "stream",
     "text": [
      "[('Chemistry', 97), ('Physics', 87), ('Math', 81)]\n"
     ]
    }
   ],
   "source": [
    "# 9 - Python program to sort Counter by value.\n",
    "\n",
    "from collections import Counter\n",
    "c = Counter({'Math':81, 'Physics':87, 'Chemistry':97})\n",
    "print(c.most_common())"
   ]
  },
  {
   "cell_type": "code",
   "execution_count": 27,
   "metadata": {},
   "outputs": [
    {
     "name": "stdout",
     "output_type": "stream",
     "text": [
      "key1: 1 is present in both x and y\n"
     ]
    }
   ],
   "source": [
    "# 10 - Python program to match key values in two dictionaries.\n",
    "\n",
    "x = {'key1': 1, 'key2': 3, 'key3': 2}\n",
    "y = {'key1': 1, 'key2': 2}\n",
    "for (key, value) in set(x.items()) & set(y.items()):\n",
    "     print('%s: %s is present in both x and y' % (key,value))"
   ]
  },
  {
   "cell_type": "code",
   "execution_count": 28,
   "metadata": {},
   "outputs": [
    {
     "name": "stdout",
     "output_type": "stream",
     "text": [
      "('tuple', 3, 5.2)\n"
     ]
    }
   ],
   "source": [
    "\n",
    "# Python Data Types: Tuple - Exercises\n",
    "\n",
    "# 1 - Python program to create a tuple with different data types.\n",
    " \n",
    "tuplex = ('tuple', 3, 5.2)\n",
    "print(tuplex)   \n"
   ]
  },
  {
   "cell_type": "code",
   "execution_count": 29,
   "metadata": {},
   "outputs": [
    {
     "name": "stdout",
     "output_type": "stream",
     "text": [
      "(1, 2, 3, 4, 5, 6)\n",
      "(1, 2, 3, 4, 5, 6, 20, 56, 95)\n",
      "(1, 2, 3, 4, 5, 6, 20, 56, 95, 'awesh')\n",
      "(1, 2, 3, 4, 5, 6, 20, 56, 95, 'awesh', 30)\n"
     ]
    }
   ],
   "source": [
    "# 2 - Python program to add an item in a tuple.\n",
    " \n",
    "tuplex = (1,2,3,4,5,6)\n",
    "print(tuplex)\n",
    "\n",
    "tuplex = tuplex[:6] + (20,56,95)\n",
    "print(tuplex)\n",
    "\n",
    "tuplex = tuplex + ('awesh',)\n",
    "print(tuplex)                                  \n",
    "\n",
    "listx = list(tuplex)\n",
    "listx.append(30)\n",
    "tuplex = tuple(listx)\n",
    "print(tuplex)"
   ]
  },
  {
   "cell_type": "code",
   "execution_count": 30,
   "metadata": {},
   "outputs": [
    {
     "name": "stdout",
     "output_type": "stream",
     "text": [
      "AWESH\tGAUTAM\n"
     ]
    }
   ],
   "source": [
    "# 3 - Python program to convert a tuple to a string.\n",
    "\n",
    "tuple = ('A', 'W', 'E', 'S', 'H\\t', 'G', 'A', 'U', 'T', 'A', 'M')\n",
    "string = ''.join(tuple)\n",
    "print(string)"
   ]
  },
  {
   "cell_type": "code",
   "execution_count": 31,
   "metadata": {},
   "outputs": [
    {
     "name": "stdout",
     "output_type": "stream",
     "text": [
      "(1, 2, 3, 4, 2, 3, 2, 4, 2, 1, 2)\n",
      "5\n"
     ]
    }
   ],
   "source": [
    "# 4 - Python program to find the repeated items of a tuple.\n",
    "\n",
    "tup = (1,2,3,4,2,3,2,4,2,1,2)\n",
    "print(tup)\n",
    "\n",
    "count = tup.count(2)\n",
    "print(count)"
   ]
  },
  {
   "cell_type": "code",
   "execution_count": 32,
   "metadata": {},
   "outputs": [
    {
     "name": "stdout",
     "output_type": "stream",
     "text": [
      "Length of first tuple :  4\n",
      "Length of second tuple :  2\n"
     ]
    }
   ],
   "source": [
    "# 5 -  Python program to find the length of a tuple.\n",
    "\n",
    "tup1, tup2 = (143, 'Awesh', 43, 'Gautam'), (786, 'python')\n",
    "print('Length of first tuple : ', len(tup1))\n",
    "print('Length of second tuple : ', len(tup2))"
   ]
  },
  {
   "cell_type": "code",
   "execution_count": 34,
   "metadata": {},
   "outputs": [
    {
     "name": "stdout",
     "output_type": "stream",
     "text": [
      "{'awesh': [10], 'gautam': [12], 'anand': [14], 'utkarsh': [20]}\n"
     ]
    }
   ],
   "source": [
    "# 6 - Python program to convert a tuple to a dictionary.\n",
    "\n",
    "def Convert(tup, di): \n",
    "    for a, b in tup: \n",
    "        di.setdefault(a, []).append(b) \n",
    "    return di \n",
    "           \n",
    "tups = [(\"awesh\", 10), (\"gautam\", 12), (\"anand\", 14),  \n",
    "     (\"utkarsh\", 20)] \n",
    "dictionary = {} \n",
    "print (Convert(tups, dictionary)) \n"
   ]
  },
  {
   "cell_type": "code",
   "execution_count": 35,
   "metadata": {},
   "outputs": [
    {
     "name": "stdout",
     "output_type": "stream",
     "text": [
      "[(1, 4, 43), (1, 2, 43), (4, 5, 43)]\n"
     ]
    }
   ],
   "source": [
    "\n",
    "# 7 - Python program to replace last value of tuples in a list.\n",
    "\n",
    "l = [(1,4,3), (1,2,3),(4,5,6)]\n",
    "print([t[:-1] + (43,) for t in l])"
   ]
  },
  {
   "cell_type": "code",
   "execution_count": 36,
   "metadata": {},
   "outputs": [
    {
     "name": "stdout",
     "output_type": "stream",
     "text": [
      "[('a', 'b', 'python'), ('d', 'e', 'python'), ('g', 'h', 'python')]\n"
     ]
    }
   ],
   "source": [
    "# 8 - Python program to replace last value of tuples in a list.\n",
    "\n",
    "l = [('a', 'b', 'c'), ('d', 'e', 'f'),('g', 'h', 'i')]\n",
    "print([t[:-1] + ('python',) for t in l])"
   ]
  },
  {
   "cell_type": "code",
   "execution_count": 37,
   "metadata": {},
   "outputs": [
    {
     "name": "stdout",
     "output_type": "stream",
     "text": [
      "[('EC-10', '93'), ('EC-12', '87'), ('EC-11', '83')]\n"
     ]
    }
   ],
   "source": [
    "# 9 - Python program to sort a tuple by its float element.\n",
    " \n",
    "per = [('EC-10', '93'), ('EC-11', '83'), ('EC-12', '87')]\n",
    "print( sorted(per, key=lambda x: float(x[1]), reverse = True))"
   ]
  },
  {
   "cell_type": "code",
   "execution_count": 98,
   "metadata": {
    "scrolled": true
   },
   "outputs": [
    {
     "name": "stdout",
     "output_type": "stream",
     "text": [
      "4\n"
     ]
    }
   ],
   "source": [
    "# 10 -  Python program to count the elements in a list until an element is a tuple.\n",
    "\n",
    "MyList = [2,3,(1,2),5]\n",
    "counter=0\n",
    "for i in MyList:\n",
    "    if type(i) == tuple:\n",
    "        break\n",
    "    counter+=1\n",
    "print(counter)"
   ]
  },
  {
   "cell_type": "code",
   "execution_count": 56,
   "metadata": {},
   "outputs": [
    {
     "name": "stdout",
     "output_type": "stream",
     "text": [
      "Even numbers : 7\n",
      "Odd numbers : 9\n"
     ]
    }
   ],
   "source": [
    "#Python Conditional Statements and loops\n",
    "\n",
    "# 1 - Write a Python program to count the number of even and odd numbers from a series of numbers.\n",
    "\n",
    "num = (1,2,3,4,5,6,7,8,9,1,11,12,13,14,15,16)\n",
    "count_even = 0\n",
    "count_odd = 0\n",
    "for a in num:\n",
    "    if not a%2:\n",
    "        count_even+=1\n",
    "    else:\n",
    "        count_odd+=1 \n",
    "print('Even numbers :',count_even)        \n",
    "print('Odd numbers :',count_odd)        \n",
    "       \n"
   ]
  },
  {
   "cell_type": "code",
   "execution_count": 58,
   "metadata": {},
   "outputs": [
    {
     "name": "stdout",
     "output_type": "stream",
     "text": [
      "0\t\n",
      "1\t\n",
      "2\t\n",
      "4\t\n",
      "5\t\n"
     ]
    }
   ],
   "source": [
    "# 2 - Python program that prints all the numbers from 0 to 6 except 3 and 6.\n",
    "\n",
    "for num in range(6):\n",
    "    if(num == 3 or num == 6):\n",
    "        continue\n",
    "    print(num, end='')\n",
    "    print('\\t')"
   ]
  },
  {
   "cell_type": "code",
   "execution_count": 61,
   "metadata": {},
   "outputs": [
    {
     "name": "stdout",
     "output_type": "stream",
     "text": [
      "1\n",
      "1\n",
      "2\n",
      "3\n",
      "5\n",
      "8\n",
      "13\n",
      "21\n",
      "34\n"
     ]
    }
   ],
   "source": [
    "# 3 - Python program to get the Fibonacci series between 0 to 50.\n",
    "\n",
    "a,b = 0,1\n",
    "\n",
    "while b<50:\n",
    "    print(b)\n",
    "    a,b = b,a+b\n"
   ]
  },
  {
   "cell_type": "code",
   "execution_count": 86,
   "metadata": {},
   "outputs": [
    {
     "name": "stdout",
     "output_type": "stream",
     "text": [
      "100, 102, 104, 106, 108, 110, 112, 114, 116, 118, 120, 122, 124, 126, 128, 130, 132, 134, 136, 138, 140, 142, 144, 146, 148, 150, 152, 154, 156, 158, 160, 162, 164, 166, 168, 170, 172, 174, 176, 178, 180, 182, 184, 186, 188, 190, 192, 194, 196, 198, 200, 202, 204, 206, 208, 210, 212, 214, 216, 218, 220, 222, 224, 226, 228, 230, 232, 234, 236, 238, 240, 242, 244, 246, 248, 250, 252, 254, 256, 258, 260, 262, 264, 266, 268, 270, 272, 274, 276, 278, 280, 282, 284, 286, 288, 290, 292, 294, 296, 298, 300, 302, 304, 306, 308, 310, 312, 314, 316, 318, 320, 322, 324, 326, 328, 330, 332, 334, 336, 338, 340, 342, 344, 346, 348, 350, 352, 354, 356, 358, 360, 362, 364, 366, 368, 370, 372, 374, 376, 378, 380, 382, 384, 386, 388, 390, 392, 394, 396, 398, 400, "
     ]
    }
   ],
   "source": [
    "# 4 -  Python program to find numbers between 100 and 400 (both included) where each digit of a number is an even number.\n",
    "#      The numbers obtained should be printed in a comma-separated sequence¶\n",
    "\n",
    "\n",
    "start, end = 100, 400\n",
    "for num in range(start, end + 1):  \n",
    "\tif num % 2 == 0: \n",
    "\t\tprint(num, end = \", \") \n"
   ]
  },
  {
   "cell_type": "code",
   "execution_count": 71,
   "metadata": {},
   "outputs": [
    {
     "name": "stdout",
     "output_type": "stream",
     "text": [
      "Enter any no.: 12\n",
      "12 x 1 = 12\n",
      "12 x 2 = 24\n",
      "12 x 3 = 36\n",
      "12 x 4 = 48\n",
      "12 x 5 = 60\n",
      "12 x 6 = 72\n",
      "12 x 7 = 84\n",
      "12 x 8 = 96\n",
      "12 x 9 = 108\n",
      "12 x 10 = 120\n"
     ]
    }
   ],
   "source": [
    "# 5 - Python program to create the multiplication table (from 1 to 10) of a number.\n",
    "\n",
    "n = int(input('Enter any no.: '))\n",
    "for i in range(1,11):\n",
    "    print(n,'x',i,'=',n*i )"
   ]
  },
  {
   "cell_type": "code",
   "execution_count": 72,
   "metadata": {},
   "outputs": [
    {
     "name": "stdout",
     "output_type": "stream",
     "text": [
      "20\n"
     ]
    }
   ],
   "source": [
    "# Python functions - Exercises¶\n",
    "\n",
    "# 1 - Python function to find the Max of three numbers.\n",
    "\n",
    "def maximum(a,b,c):\n",
    "    if (a>b):\n",
    "        largest = a\n",
    "    elif (b>a):\n",
    "        largest = b\n",
    "    else:\n",
    "        largest = c\n",
    "        \n",
    "    return largest\n",
    " \n",
    "a = 10\n",
    "b = 20\n",
    "c = 12\n",
    "print(maximum(a,b,c))"
   ]
  },
  {
   "cell_type": "code",
   "execution_count": 73,
   "metadata": {},
   "outputs": [
    {
     "name": "stdout",
     "output_type": "stream",
     "text": [
      "88\n"
     ]
    }
   ],
   "source": [
    "# 2 - Python function to sum all the numbers in a list.\n",
    "\n",
    "def sum(numbers):\n",
    "    total = 0\n",
    "    for a in numbers:\n",
    "        total += a\n",
    "    return total\n",
    "print(sum((12, 45, 21, 10)))\n"
   ]
  },
  {
   "cell_type": "code",
   "execution_count": 76,
   "metadata": {},
   "outputs": [
    {
     "name": "stdout",
     "output_type": "stream",
     "text": [
      "5376\n",
      "18\n"
     ]
    }
   ],
   "source": [
    "# 3 -  Python function to multiply all the numbers in a list\n",
    "\n",
    "def multiply(my_list):\n",
    "    result = 1\n",
    "    for a in my_list:\n",
    "        result = result*a\n",
    "        \n",
    "    return result\n",
    "\n",
    "list1 = [14, 12, 32]\n",
    "list2 = [1, 3, 6]\n",
    "print(multiply(list1))\n",
    "print(multiply(list2))"
   ]
  },
  {
   "cell_type": "code",
   "execution_count": 77,
   "metadata": {},
   "outputs": [
    {
     "name": "stdout",
     "output_type": "stream",
     "text": [
      "Original String :  The ram is a GENTELMAN\n",
      "No. of Upper case characters :  10\n",
      "No. of Lower case Characters :  8\n"
     ]
    }
   ],
   "source": [
    "# 4 -  Python function that accepts a string and calculate the number of upper case letters and lower case letters.\n",
    "\n",
    "def string_test(s):\n",
    "    d={\"UPPER_CASE\":0, \"LOWER_CASE\":0}\n",
    "    for c in s:\n",
    "        if c.isupper():\n",
    "           d[\"UPPER_CASE\"]+=1\n",
    "        elif c.islower():\n",
    "           d[\"LOWER_CASE\"]+=1\n",
    "        else:\n",
    "           pass\n",
    "    print (\"Original String : \", s)\n",
    "    print (\"No. of Upper case characters : \", d[\"UPPER_CASE\"])\n",
    "    print (\"No. of Lower case Characters : \", d[\"LOWER_CASE\"])\n",
    "\n",
    "string_test('The ram is a GENTELMAN')\n"
   ]
  },
  {
   "cell_type": "code",
   "execution_count": 83,
   "metadata": {},
   "outputs": [
    {
     "name": "stdout",
     "output_type": "stream",
     "text": [
      "2\t4\t6\t8\t10\t"
     ]
    }
   ],
   "source": [
    "# 5 -  Python program to print the even numbers from a given list.\n",
    "\n",
    "list1 = [1,2,3,4,5,6,7,8,9,10]\n",
    "for num in list1:\n",
    "     if num % 2 == 0:\n",
    "        print(num,end = '\\t')"
   ]
  },
  {
   "cell_type": "code",
   "execution_count": null,
   "metadata": {},
   "outputs": [],
   "source": []
  }
 ],
 "metadata": {
  "kernelspec": {
   "display_name": "Python 3",
   "language": "python",
   "name": "python3"
  },
  "language_info": {
   "codemirror_mode": {
    "name": "ipython",
    "version": 3
   },
   "file_extension": ".py",
   "mimetype": "text/x-python",
   "name": "python",
   "nbconvert_exporter": "python",
   "pygments_lexer": "ipython3",
   "version": "3.6.5"
  }
 },
 "nbformat": 4,
 "nbformat_minor": 2
}
